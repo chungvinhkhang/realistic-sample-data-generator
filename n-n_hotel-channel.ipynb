{
 "cells": [
  {
   "cell_type": "code",
   "execution_count": 1,
   "id": "b980ad7c-c93d-41f1-a7d9-1720e23e26e7",
   "metadata": {},
   "outputs": [],
   "source": [
    "import numpy as np\n",
    "import pandas as pd"
   ]
  },
  {
   "cell_type": "code",
   "execution_count": 2,
   "id": "0e657d5d-3d36-4dd2-8796-c4596c979644",
   "metadata": {},
   "outputs": [],
   "source": [
    "# input\n",
    "hotels = ['h1', 'h2','h3']\n",
    "channels = ['c1', 'c2', 'c3']\n",
    "distribution = [[1,1,3],[5,5,12],[3,3,20]]\n",
    "total_rec = 1000"
   ]
  },
  {
   "cell_type": "code",
   "execution_count": 3,
   "id": "c259677d-324b-4ba4-a44b-6f9e8866dfab",
   "metadata": {},
   "outputs": [
    {
     "data": {
      "text/plain": [
       "array([[0.11, 0.11, 0.09],\n",
       "       [0.56, 0.56, 0.34],\n",
       "       [0.33, 0.33, 0.57]])"
      ]
     },
     "execution_count": 3,
     "metadata": {},
     "output_type": "execute_result"
    }
   ],
   "source": [
    "# normalized\n",
    "np_hotels = np.arange(len(hotels))\n",
    "np_channels = np.arange(len(channels))\n",
    "np_dist = np.array(distribution)\n",
    "normed_dist = np.round(np_dist / np_dist.sum(axis=0), 2)\n",
    "\n",
    "normed_dist"
   ]
  },
  {
   "cell_type": "code",
   "execution_count": 4,
   "id": "dc3c2662-e161-4cd4-835f-5af49bd273a7",
   "metadata": {},
   "outputs": [
    {
     "data": {
      "text/plain": [
       "array([[110, 110,  90],\n",
       "       [560, 560, 340],\n",
       "       [330, 330, 570]])"
      ]
     },
     "execution_count": 4,
     "metadata": {},
     "output_type": "execute_result"
    }
   ],
   "source": [
    "# real sample data count\n",
    "count = (normed_dist * total_rec).astype(int)\n",
    "count"
   ]
  },
  {
   "cell_type": "code",
   "execution_count": 5,
   "id": "31bd1d54-103a-40c2-88fc-8740ba45054a",
   "metadata": {},
   "outputs": [
    {
     "data": {
      "text/plain": [
       "3000"
      ]
     },
     "execution_count": 5,
     "metadata": {},
     "output_type": "execute_result"
    }
   ],
   "source": [
    "# generate sample data records\n",
    "all_data = []\n",
    "for r_index, row in enumerate(count):\n",
    "    for c_index, cell in enumerate(row):\n",
    "        data = np.tile(np.array([r_index, c_index]), (cell,1))\n",
    "        all_data.append(data)\n",
    "\n",
    "concated = np.vstack(all_data)\n",
    "np.random.shuffle(concated)\n",
    "\n",
    "records = [[hotels[record[0]], channels[record[1]]] for record in concated.tolist()]\n",
    "\n",
    "# we can export records into csv\n",
    "len(records)"
   ]
  },
  {
   "cell_type": "code",
   "execution_count": 6,
   "id": "126c9c67-dc05-4561-9486-c648828dc7ec",
   "metadata": {},
   "outputs": [
    {
     "data": {
      "text/html": [
       "<div>\n",
       "<style scoped>\n",
       "    .dataframe tbody tr th:only-of-type {\n",
       "        vertical-align: middle;\n",
       "    }\n",
       "\n",
       "    .dataframe tbody tr th {\n",
       "        vertical-align: top;\n",
       "    }\n",
       "\n",
       "    .dataframe thead th {\n",
       "        text-align: right;\n",
       "    }\n",
       "</style>\n",
       "<table border=\"1\" class=\"dataframe\">\n",
       "  <thead>\n",
       "    <tr style=\"text-align: right;\">\n",
       "      <th>channel</th>\n",
       "      <th>c1</th>\n",
       "      <th>c2</th>\n",
       "      <th>c3</th>\n",
       "    </tr>\n",
       "    <tr>\n",
       "      <th>hotel</th>\n",
       "      <th></th>\n",
       "      <th></th>\n",
       "      <th></th>\n",
       "    </tr>\n",
       "  </thead>\n",
       "  <tbody>\n",
       "    <tr>\n",
       "      <th>h1</th>\n",
       "      <td>110</td>\n",
       "      <td>110</td>\n",
       "      <td>90</td>\n",
       "    </tr>\n",
       "    <tr>\n",
       "      <th>h2</th>\n",
       "      <td>560</td>\n",
       "      <td>560</td>\n",
       "      <td>340</td>\n",
       "    </tr>\n",
       "    <tr>\n",
       "      <th>h3</th>\n",
       "      <td>330</td>\n",
       "      <td>330</td>\n",
       "      <td>570</td>\n",
       "    </tr>\n",
       "  </tbody>\n",
       "</table>\n",
       "</div>"
      ],
      "text/plain": [
       "channel   c1   c2   c3\n",
       "hotel                 \n",
       "h1       110  110   90\n",
       "h2       560  560  340\n",
       "h3       330  330  570"
      ]
     },
     "execution_count": 6,
     "metadata": {},
     "output_type": "execute_result"
    }
   ],
   "source": [
    "# test again\n",
    "np_records = np.array(records)\n",
    "df = pd.DataFrame.from_records(np_records, columns=['hotel','channel'])\n",
    "df.groupby(['hotel', 'channel']).size().unstack()"
   ]
  }
 ],
 "metadata": {
  "kernelspec": {
   "display_name": "Python 3",
   "language": "python",
   "name": "python3"
  },
  "language_info": {
   "codemirror_mode": {
    "name": "ipython",
    "version": 3
   },
   "file_extension": ".py",
   "mimetype": "text/x-python",
   "name": "python",
   "nbconvert_exporter": "python",
   "pygments_lexer": "ipython3",
   "version": "3.9.6"
  }
 },
 "nbformat": 4,
 "nbformat_minor": 5
}
